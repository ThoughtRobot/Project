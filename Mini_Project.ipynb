{
  "nbformat": 4,
  "nbformat_minor": 0,
  "metadata": {
    "kernelspec": {
      "display_name": "Python 3",
      "language": "python",
      "name": "python3"
    },
    "language_info": {
      "codemirror_mode": {
        "name": "ipython",
        "version": 3
      },
      "file_extension": ".py",
      "mimetype": "text/x-python",
      "name": "python",
      "nbconvert_exporter": "python",
      "pygments_lexer": "ipython3",
      "version": "3.7.6"
    },
    "colab": {
      "name": "Mini Project.ipynb",
      "provenance": [],
      "collapsed_sections": [],
      "include_colab_link": true
    }
  },
  "cells": [
    {
      "cell_type": "markdown",
      "metadata": {
        "id": "view-in-github",
        "colab_type": "text"
      },
      "source": [
        "<a href=\"https://colab.research.google.com/github/ThoughtRobot/Project/blob/master/Mini_Project.ipynb\" target=\"_parent\"><img src=\"https://colab.research.google.com/assets/colab-badge.svg\" alt=\"Open In Colab\"/></a>"
      ]
    },
    {
      "cell_type": "code",
      "metadata": {
        "id": "g5oT1qb2PE15",
        "colab_type": "code",
        "colab": {}
      },
      "source": [
        "import pandas as pd\n",
        "import numpy as np\n",
        "import matplotlib.pyplot as plt\n",
        "import seaborn as sns\n",
        "%matplotlib inline"
      ],
      "execution_count": null,
      "outputs": []
    },
    {
      "cell_type": "code",
      "metadata": {
        "id": "1OkLYlFnPE1_",
        "colab_type": "code",
        "colab": {}
      },
      "source": [
        "df = pd.read_csv('phonedata.csv')"
      ],
      "execution_count": null,
      "outputs": []
    },
    {
      "cell_type": "code",
      "metadata": {
        "id": "Sf8ZSSGMPE2D",
        "colab_type": "code",
        "colab": {},
        "outputId": "8f664473-38f5-4554-9897-1abb1ee8a5d3"
      },
      "source": [
        "df.head(3)"
      ],
      "execution_count": null,
      "outputs": [
        {
          "output_type": "execute_result",
          "data": {
            "text/html": [
              "<div>\n",
              "<style scoped>\n",
              "    .dataframe tbody tr th:only-of-type {\n",
              "        vertical-align: middle;\n",
              "    }\n",
              "\n",
              "    .dataframe tbody tr th {\n",
              "        vertical-align: top;\n",
              "    }\n",
              "\n",
              "    .dataframe thead th {\n",
              "        text-align: right;\n",
              "    }\n",
              "</style>\n",
              "<table border=\"1\" class=\"dataframe\">\n",
              "  <thead>\n",
              "    <tr style=\"text-align: right;\">\n",
              "      <th></th>\n",
              "      <th>tBodyAcc-mean()-X</th>\n",
              "      <th>tBodyAcc-mean()-Y</th>\n",
              "      <th>tBodyAcc-mean()-Z</th>\n",
              "      <th>tBodyAcc-std()-X</th>\n",
              "      <th>tBodyAcc-std()-Y</th>\n",
              "      <th>tBodyAcc-std()-Z</th>\n",
              "      <th>tBodyAcc-mad()-X</th>\n",
              "      <th>tBodyAcc-mad()-Y</th>\n",
              "      <th>tBodyAcc-mad()-Z</th>\n",
              "      <th>tBodyAcc-max()-X</th>\n",
              "      <th>...</th>\n",
              "      <th>fBodyBodyGyroJerkMag-kurtosis()</th>\n",
              "      <th>angle(tBodyAccMean,gravity)</th>\n",
              "      <th>angle(tBodyAccJerkMean),gravityMean)</th>\n",
              "      <th>angle(tBodyGyroMean,gravityMean)</th>\n",
              "      <th>angle(tBodyGyroJerkMean,gravityMean)</th>\n",
              "      <th>angle(X,gravityMean)</th>\n",
              "      <th>angle(Y,gravityMean)</th>\n",
              "      <th>angle(Z,gravityMean)</th>\n",
              "      <th>subject</th>\n",
              "      <th>Activity</th>\n",
              "    </tr>\n",
              "  </thead>\n",
              "  <tbody>\n",
              "    <tr>\n",
              "      <th>0</th>\n",
              "      <td>0.288585</td>\n",
              "      <td>-0.020294</td>\n",
              "      <td>-0.132905</td>\n",
              "      <td>-0.995279</td>\n",
              "      <td>-0.983111</td>\n",
              "      <td>-0.913526</td>\n",
              "      <td>-0.995112</td>\n",
              "      <td>-0.983185</td>\n",
              "      <td>-0.923527</td>\n",
              "      <td>-0.934724</td>\n",
              "      <td>...</td>\n",
              "      <td>-0.710304</td>\n",
              "      <td>-0.112754</td>\n",
              "      <td>0.030400</td>\n",
              "      <td>-0.464761</td>\n",
              "      <td>-0.018446</td>\n",
              "      <td>-0.841247</td>\n",
              "      <td>0.179941</td>\n",
              "      <td>-0.058627</td>\n",
              "      <td>1</td>\n",
              "      <td>STANDING</td>\n",
              "    </tr>\n",
              "    <tr>\n",
              "      <th>1</th>\n",
              "      <td>0.278419</td>\n",
              "      <td>-0.016411</td>\n",
              "      <td>-0.123520</td>\n",
              "      <td>-0.998245</td>\n",
              "      <td>-0.975300</td>\n",
              "      <td>-0.960322</td>\n",
              "      <td>-0.998807</td>\n",
              "      <td>-0.974914</td>\n",
              "      <td>-0.957686</td>\n",
              "      <td>-0.943068</td>\n",
              "      <td>...</td>\n",
              "      <td>-0.861499</td>\n",
              "      <td>0.053477</td>\n",
              "      <td>-0.007435</td>\n",
              "      <td>-0.732626</td>\n",
              "      <td>0.703511</td>\n",
              "      <td>-0.844788</td>\n",
              "      <td>0.180289</td>\n",
              "      <td>-0.054317</td>\n",
              "      <td>1</td>\n",
              "      <td>STANDING</td>\n",
              "    </tr>\n",
              "    <tr>\n",
              "      <th>2</th>\n",
              "      <td>0.279653</td>\n",
              "      <td>-0.019467</td>\n",
              "      <td>-0.113462</td>\n",
              "      <td>-0.995380</td>\n",
              "      <td>-0.967187</td>\n",
              "      <td>-0.978944</td>\n",
              "      <td>-0.996520</td>\n",
              "      <td>-0.963668</td>\n",
              "      <td>-0.977469</td>\n",
              "      <td>-0.938692</td>\n",
              "      <td>...</td>\n",
              "      <td>-0.760104</td>\n",
              "      <td>-0.118559</td>\n",
              "      <td>0.177899</td>\n",
              "      <td>0.100699</td>\n",
              "      <td>0.808529</td>\n",
              "      <td>-0.848933</td>\n",
              "      <td>0.180637</td>\n",
              "      <td>-0.049118</td>\n",
              "      <td>1</td>\n",
              "      <td>STANDING</td>\n",
              "    </tr>\n",
              "  </tbody>\n",
              "</table>\n",
              "<p>3 rows × 563 columns</p>\n",
              "</div>"
            ],
            "text/plain": [
              "   tBodyAcc-mean()-X  tBodyAcc-mean()-Y  tBodyAcc-mean()-Z  tBodyAcc-std()-X  \\\n",
              "0           0.288585          -0.020294          -0.132905         -0.995279   \n",
              "1           0.278419          -0.016411          -0.123520         -0.998245   \n",
              "2           0.279653          -0.019467          -0.113462         -0.995380   \n",
              "\n",
              "   tBodyAcc-std()-Y  tBodyAcc-std()-Z  tBodyAcc-mad()-X  tBodyAcc-mad()-Y  \\\n",
              "0         -0.983111         -0.913526         -0.995112         -0.983185   \n",
              "1         -0.975300         -0.960322         -0.998807         -0.974914   \n",
              "2         -0.967187         -0.978944         -0.996520         -0.963668   \n",
              "\n",
              "   tBodyAcc-mad()-Z  tBodyAcc-max()-X  ...  fBodyBodyGyroJerkMag-kurtosis()  \\\n",
              "0         -0.923527         -0.934724  ...                        -0.710304   \n",
              "1         -0.957686         -0.943068  ...                        -0.861499   \n",
              "2         -0.977469         -0.938692  ...                        -0.760104   \n",
              "\n",
              "   angle(tBodyAccMean,gravity)  angle(tBodyAccJerkMean),gravityMean)  \\\n",
              "0                    -0.112754                              0.030400   \n",
              "1                     0.053477                             -0.007435   \n",
              "2                    -0.118559                              0.177899   \n",
              "\n",
              "   angle(tBodyGyroMean,gravityMean)  angle(tBodyGyroJerkMean,gravityMean)  \\\n",
              "0                         -0.464761                             -0.018446   \n",
              "1                         -0.732626                              0.703511   \n",
              "2                          0.100699                              0.808529   \n",
              "\n",
              "   angle(X,gravityMean)  angle(Y,gravityMean)  angle(Z,gravityMean)  subject  \\\n",
              "0             -0.841247              0.179941             -0.058627        1   \n",
              "1             -0.844788              0.180289             -0.054317        1   \n",
              "2             -0.848933              0.180637             -0.049118        1   \n",
              "\n",
              "   Activity  \n",
              "0  STANDING  \n",
              "1  STANDING  \n",
              "2  STANDING  \n",
              "\n",
              "[3 rows x 563 columns]"
            ]
          },
          "metadata": {
            "tags": []
          },
          "execution_count": 4
        }
      ]
    },
    {
      "cell_type": "code",
      "metadata": {
        "id": "sBL0-YhyPE2I",
        "colab_type": "code",
        "colab": {},
        "outputId": "6e341064-4baf-4912-f9fb-ec57d3c14c03"
      },
      "source": [
        "df['Activity'].unique()"
      ],
      "execution_count": null,
      "outputs": [
        {
          "output_type": "execute_result",
          "data": {
            "text/plain": [
              "array(['STANDING', 'SITTING', 'LAYING', 'WALKING', 'WALKING_DOWNSTAIRS',\n",
              "       'WALKING_UPSTAIRS'], dtype=object)"
            ]
          },
          "metadata": {
            "tags": []
          },
          "execution_count": 5
        }
      ]
    },
    {
      "cell_type": "code",
      "metadata": {
        "id": "jMZfO_9KPE2M",
        "colab_type": "code",
        "colab": {}
      },
      "source": [
        "def action(value):\n",
        "    if value == 'STANDING':\n",
        "        return 0\n",
        "    elif value == 'SITTING':\n",
        "        return 1\n",
        "    elif value == 'LAYING':\n",
        "        return 2\n",
        "    elif  value =='WALKING':\n",
        "        return 3\n",
        "    elif value =='WALKING_DOWNSTAIRS':\n",
        "        return 4\n",
        "    else:\n",
        "        return 5"
      ],
      "execution_count": null,
      "outputs": []
    },
    {
      "cell_type": "code",
      "metadata": {
        "id": "5Gk1HbQhPE2S",
        "colab_type": "code",
        "colab": {}
      },
      "source": [
        "df['Activity'] = df['Activity'].apply(action)"
      ],
      "execution_count": null,
      "outputs": []
    },
    {
      "cell_type": "code",
      "metadata": {
        "id": "6gonc_UWPE2W",
        "colab_type": "code",
        "colab": {},
        "outputId": "5022e256-2605-4e26-f9c2-2554981e8f3b"
      },
      "source": [
        "df.head(3)"
      ],
      "execution_count": null,
      "outputs": [
        {
          "output_type": "execute_result",
          "data": {
            "text/html": [
              "<div>\n",
              "<style scoped>\n",
              "    .dataframe tbody tr th:only-of-type {\n",
              "        vertical-align: middle;\n",
              "    }\n",
              "\n",
              "    .dataframe tbody tr th {\n",
              "        vertical-align: top;\n",
              "    }\n",
              "\n",
              "    .dataframe thead th {\n",
              "        text-align: right;\n",
              "    }\n",
              "</style>\n",
              "<table border=\"1\" class=\"dataframe\">\n",
              "  <thead>\n",
              "    <tr style=\"text-align: right;\">\n",
              "      <th></th>\n",
              "      <th>tBodyAcc-mean()-X</th>\n",
              "      <th>tBodyAcc-mean()-Y</th>\n",
              "      <th>tBodyAcc-mean()-Z</th>\n",
              "      <th>tBodyAcc-std()-X</th>\n",
              "      <th>tBodyAcc-std()-Y</th>\n",
              "      <th>tBodyAcc-std()-Z</th>\n",
              "      <th>tBodyAcc-mad()-X</th>\n",
              "      <th>tBodyAcc-mad()-Y</th>\n",
              "      <th>tBodyAcc-mad()-Z</th>\n",
              "      <th>tBodyAcc-max()-X</th>\n",
              "      <th>...</th>\n",
              "      <th>fBodyBodyGyroJerkMag-kurtosis()</th>\n",
              "      <th>angle(tBodyAccMean,gravity)</th>\n",
              "      <th>angle(tBodyAccJerkMean),gravityMean)</th>\n",
              "      <th>angle(tBodyGyroMean,gravityMean)</th>\n",
              "      <th>angle(tBodyGyroJerkMean,gravityMean)</th>\n",
              "      <th>angle(X,gravityMean)</th>\n",
              "      <th>angle(Y,gravityMean)</th>\n",
              "      <th>angle(Z,gravityMean)</th>\n",
              "      <th>subject</th>\n",
              "      <th>Activity</th>\n",
              "    </tr>\n",
              "  </thead>\n",
              "  <tbody>\n",
              "    <tr>\n",
              "      <th>0</th>\n",
              "      <td>0.288585</td>\n",
              "      <td>-0.020294</td>\n",
              "      <td>-0.132905</td>\n",
              "      <td>-0.995279</td>\n",
              "      <td>-0.983111</td>\n",
              "      <td>-0.913526</td>\n",
              "      <td>-0.995112</td>\n",
              "      <td>-0.983185</td>\n",
              "      <td>-0.923527</td>\n",
              "      <td>-0.934724</td>\n",
              "      <td>...</td>\n",
              "      <td>-0.710304</td>\n",
              "      <td>-0.112754</td>\n",
              "      <td>0.030400</td>\n",
              "      <td>-0.464761</td>\n",
              "      <td>-0.018446</td>\n",
              "      <td>-0.841247</td>\n",
              "      <td>0.179941</td>\n",
              "      <td>-0.058627</td>\n",
              "      <td>1</td>\n",
              "      <td>0</td>\n",
              "    </tr>\n",
              "    <tr>\n",
              "      <th>1</th>\n",
              "      <td>0.278419</td>\n",
              "      <td>-0.016411</td>\n",
              "      <td>-0.123520</td>\n",
              "      <td>-0.998245</td>\n",
              "      <td>-0.975300</td>\n",
              "      <td>-0.960322</td>\n",
              "      <td>-0.998807</td>\n",
              "      <td>-0.974914</td>\n",
              "      <td>-0.957686</td>\n",
              "      <td>-0.943068</td>\n",
              "      <td>...</td>\n",
              "      <td>-0.861499</td>\n",
              "      <td>0.053477</td>\n",
              "      <td>-0.007435</td>\n",
              "      <td>-0.732626</td>\n",
              "      <td>0.703511</td>\n",
              "      <td>-0.844788</td>\n",
              "      <td>0.180289</td>\n",
              "      <td>-0.054317</td>\n",
              "      <td>1</td>\n",
              "      <td>0</td>\n",
              "    </tr>\n",
              "    <tr>\n",
              "      <th>2</th>\n",
              "      <td>0.279653</td>\n",
              "      <td>-0.019467</td>\n",
              "      <td>-0.113462</td>\n",
              "      <td>-0.995380</td>\n",
              "      <td>-0.967187</td>\n",
              "      <td>-0.978944</td>\n",
              "      <td>-0.996520</td>\n",
              "      <td>-0.963668</td>\n",
              "      <td>-0.977469</td>\n",
              "      <td>-0.938692</td>\n",
              "      <td>...</td>\n",
              "      <td>-0.760104</td>\n",
              "      <td>-0.118559</td>\n",
              "      <td>0.177899</td>\n",
              "      <td>0.100699</td>\n",
              "      <td>0.808529</td>\n",
              "      <td>-0.848933</td>\n",
              "      <td>0.180637</td>\n",
              "      <td>-0.049118</td>\n",
              "      <td>1</td>\n",
              "      <td>0</td>\n",
              "    </tr>\n",
              "  </tbody>\n",
              "</table>\n",
              "<p>3 rows × 563 columns</p>\n",
              "</div>"
            ],
            "text/plain": [
              "   tBodyAcc-mean()-X  tBodyAcc-mean()-Y  tBodyAcc-mean()-Z  tBodyAcc-std()-X  \\\n",
              "0           0.288585          -0.020294          -0.132905         -0.995279   \n",
              "1           0.278419          -0.016411          -0.123520         -0.998245   \n",
              "2           0.279653          -0.019467          -0.113462         -0.995380   \n",
              "\n",
              "   tBodyAcc-std()-Y  tBodyAcc-std()-Z  tBodyAcc-mad()-X  tBodyAcc-mad()-Y  \\\n",
              "0         -0.983111         -0.913526         -0.995112         -0.983185   \n",
              "1         -0.975300         -0.960322         -0.998807         -0.974914   \n",
              "2         -0.967187         -0.978944         -0.996520         -0.963668   \n",
              "\n",
              "   tBodyAcc-mad()-Z  tBodyAcc-max()-X  ...  fBodyBodyGyroJerkMag-kurtosis()  \\\n",
              "0         -0.923527         -0.934724  ...                        -0.710304   \n",
              "1         -0.957686         -0.943068  ...                        -0.861499   \n",
              "2         -0.977469         -0.938692  ...                        -0.760104   \n",
              "\n",
              "   angle(tBodyAccMean,gravity)  angle(tBodyAccJerkMean),gravityMean)  \\\n",
              "0                    -0.112754                              0.030400   \n",
              "1                     0.053477                             -0.007435   \n",
              "2                    -0.118559                              0.177899   \n",
              "\n",
              "   angle(tBodyGyroMean,gravityMean)  angle(tBodyGyroJerkMean,gravityMean)  \\\n",
              "0                         -0.464761                             -0.018446   \n",
              "1                         -0.732626                              0.703511   \n",
              "2                          0.100699                              0.808529   \n",
              "\n",
              "   angle(X,gravityMean)  angle(Y,gravityMean)  angle(Z,gravityMean)  subject  \\\n",
              "0             -0.841247              0.179941             -0.058627        1   \n",
              "1             -0.844788              0.180289             -0.054317        1   \n",
              "2             -0.848933              0.180637             -0.049118        1   \n",
              "\n",
              "   Activity  \n",
              "0         0  \n",
              "1         0  \n",
              "2         0  \n",
              "\n",
              "[3 rows x 563 columns]"
            ]
          },
          "metadata": {
            "tags": []
          },
          "execution_count": 9
        }
      ]
    },
    {
      "cell_type": "code",
      "metadata": {
        "id": "YkTNn3ruPE2b",
        "colab_type": "code",
        "colab": {}
      },
      "source": [
        "from sklearn.model_selection import train_test_split"
      ],
      "execution_count": null,
      "outputs": []
    },
    {
      "cell_type": "code",
      "metadata": {
        "id": "fCswqRg0PE2f",
        "colab_type": "code",
        "colab": {}
      },
      "source": [
        "X = df.drop('Activity',axis = 1)\n",
        "y = df['Activity']\n",
        "X_train, X_test, y_train, y_test = train_test_split(X, y, test_size=0.3, random_state=101)"
      ],
      "execution_count": null,
      "outputs": []
    },
    {
      "cell_type": "code",
      "metadata": {
        "id": "zVwkw2jePE2j",
        "colab_type": "code",
        "colab": {}
      },
      "source": [
        "from sklearn.svm import SVC"
      ],
      "execution_count": null,
      "outputs": []
    },
    {
      "cell_type": "code",
      "metadata": {
        "id": "pwxdNO5vPE2n",
        "colab_type": "code",
        "colab": {}
      },
      "source": [
        "svc = SVC()"
      ],
      "execution_count": null,
      "outputs": []
    },
    {
      "cell_type": "code",
      "metadata": {
        "id": "LgC_lloOPE2r",
        "colab_type": "code",
        "colab": {},
        "outputId": "83887227-02d1-4f4b-8e25-21c7dc482d40"
      },
      "source": [
        "svc.fit(X_train,y_train)"
      ],
      "execution_count": null,
      "outputs": [
        {
          "output_type": "execute_result",
          "data": {
            "text/plain": [
              "SVC(C=1.0, break_ties=False, cache_size=200, class_weight=None, coef0=0.0,\n",
              "    decision_function_shape='ovr', degree=3, gamma='scale', kernel='rbf',\n",
              "    max_iter=-1, probability=False, random_state=None, shrinking=True,\n",
              "    tol=0.001, verbose=False)"
            ]
          },
          "metadata": {
            "tags": []
          },
          "execution_count": 15
        }
      ]
    },
    {
      "cell_type": "code",
      "metadata": {
        "id": "vLy9qVuNPE2u",
        "colab_type": "code",
        "colab": {}
      },
      "source": [
        "pred = svc.predict(X_test)"
      ],
      "execution_count": null,
      "outputs": []
    },
    {
      "cell_type": "code",
      "metadata": {
        "id": "tgvK__9GPE2y",
        "colab_type": "code",
        "colab": {}
      },
      "source": [
        "from sklearn.metrics import confusion_matrix,classification_report"
      ],
      "execution_count": null,
      "outputs": []
    },
    {
      "cell_type": "code",
      "metadata": {
        "id": "O51PszYaPE24",
        "colab_type": "code",
        "colab": {},
        "outputId": "32158a67-e6a6-4f1f-b105-648af3c3b533"
      },
      "source": [
        "print(confusion_matrix(y_test,pred))\n",
        "print(classification_report(y_test,pred))"
      ],
      "execution_count": null,
      "outputs": [
        {
          "output_type": "stream",
          "text": [
            "[[363  46   0   0   0   0]\n",
            " [ 63 312   6   0   0   0]\n",
            " [  0   0 398   0   0   0]\n",
            " [  0   0   0 383   2   1]\n",
            " [  0   0   0   0 290   8]\n",
            " [  0   0   0   3   2 329]]\n",
            "              precision    recall  f1-score   support\n",
            "\n",
            "           0       0.85      0.89      0.87       409\n",
            "           1       0.87      0.82      0.84       381\n",
            "           2       0.99      1.00      0.99       398\n",
            "           3       0.99      0.99      0.99       386\n",
            "           4       0.99      0.97      0.98       298\n",
            "           5       0.97      0.99      0.98       334\n",
            "\n",
            "    accuracy                           0.94      2206\n",
            "   macro avg       0.94      0.94      0.94      2206\n",
            "weighted avg       0.94      0.94      0.94      2206\n",
            "\n"
          ],
          "name": "stdout"
        }
      ]
    },
    {
      "cell_type": "code",
      "metadata": {
        "id": "rAwTYRX8PE28",
        "colab_type": "code",
        "colab": {}
      },
      "source": [
        "from sklearn.model_selection import GridSearchCV"
      ],
      "execution_count": null,
      "outputs": []
    },
    {
      "cell_type": "code",
      "metadata": {
        "id": "nPC0x_bAPE3B",
        "colab_type": "code",
        "colab": {}
      },
      "source": [
        "param_grid = {'C':[0.1,1,10,100,1000],'gamma':[1,0.1,0.01,0.001,0.0001]}"
      ],
      "execution_count": null,
      "outputs": []
    },
    {
      "cell_type": "code",
      "metadata": {
        "id": "F4QhpcXfPE3E",
        "colab_type": "code",
        "colab": {}
      },
      "source": [
        "gs = GridSearchCV(SVC(),param_grid,verbose=2)"
      ],
      "execution_count": null,
      "outputs": []
    },
    {
      "cell_type": "code",
      "metadata": {
        "id": "ql5LT6okPE3J",
        "colab_type": "code",
        "colab": {},
        "outputId": "f897d14b-ef65-48e6-a6ff-04035c72a5fe"
      },
      "source": [
        "gs.fit(X_train,y_train)"
      ],
      "execution_count": null,
      "outputs": [
        {
          "output_type": "stream",
          "text": [
            "Fitting 5 folds for each of 25 candidates, totalling 125 fits\n",
            "[CV] C=0.1, gamma=1 ..................................................\n"
          ],
          "name": "stdout"
        },
        {
          "output_type": "stream",
          "text": [
            "[Parallel(n_jobs=1)]: Using backend SequentialBackend with 1 concurrent workers.\n"
          ],
          "name": "stderr"
        },
        {
          "output_type": "stream",
          "text": [
            "[CV] ................................... C=0.1, gamma=1, total=  27.1s\n",
            "[CV] C=0.1, gamma=1 ..................................................\n"
          ],
          "name": "stdout"
        },
        {
          "output_type": "stream",
          "text": [
            "[Parallel(n_jobs=1)]: Done   1 out of   1 | elapsed:   27.0s remaining:    0.0s\n"
          ],
          "name": "stderr"
        },
        {
          "output_type": "stream",
          "text": [
            "[CV] ................................... C=0.1, gamma=1, total=  26.7s\n",
            "[CV] C=0.1, gamma=1 ..................................................\n",
            "[CV] ................................... C=0.1, gamma=1, total=  26.5s\n",
            "[CV] C=0.1, gamma=1 ..................................................\n",
            "[CV] ................................... C=0.1, gamma=1, total=  26.8s\n",
            "[CV] C=0.1, gamma=1 ..................................................\n",
            "[CV] ................................... C=0.1, gamma=1, total=  26.6s\n",
            "[CV] C=0.1, gamma=0.1 ................................................\n",
            "[CV] ................................. C=0.1, gamma=0.1, total=  23.1s\n",
            "[CV] C=0.1, gamma=0.1 ................................................\n",
            "[CV] ................................. C=0.1, gamma=0.1, total=  22.9s\n",
            "[CV] C=0.1, gamma=0.1 ................................................\n",
            "[CV] ................................. C=0.1, gamma=0.1, total=  23.0s\n",
            "[CV] C=0.1, gamma=0.1 ................................................\n",
            "[CV] ................................. C=0.1, gamma=0.1, total=  23.1s\n",
            "[CV] C=0.1, gamma=0.1 ................................................\n",
            "[CV] ................................. C=0.1, gamma=0.1, total=  22.9s\n",
            "[CV] C=0.1, gamma=0.01 ...............................................\n",
            "[CV] ................................ C=0.1, gamma=0.01, total=   9.9s\n",
            "[CV] C=0.1, gamma=0.01 ...............................................\n",
            "[CV] ................................ C=0.1, gamma=0.01, total=  10.0s\n",
            "[CV] C=0.1, gamma=0.01 ...............................................\n",
            "[CV] ................................ C=0.1, gamma=0.01, total=  10.0s\n",
            "[CV] C=0.1, gamma=0.01 ...............................................\n",
            "[CV] ................................ C=0.1, gamma=0.01, total=   9.9s\n",
            "[CV] C=0.1, gamma=0.01 ...............................................\n",
            "[CV] ................................ C=0.1, gamma=0.01, total=  10.0s\n",
            "[CV] C=0.1, gamma=0.001 ..............................................\n",
            "[CV] ............................... C=0.1, gamma=0.001, total=  14.5s\n",
            "[CV] C=0.1, gamma=0.001 ..............................................\n",
            "[CV] ............................... C=0.1, gamma=0.001, total=  14.5s\n",
            "[CV] C=0.1, gamma=0.001 ..............................................\n",
            "[CV] ............................... C=0.1, gamma=0.001, total=  14.6s\n",
            "[CV] C=0.1, gamma=0.001 ..............................................\n",
            "[CV] ............................... C=0.1, gamma=0.001, total=  14.4s\n",
            "[CV] C=0.1, gamma=0.001 ..............................................\n",
            "[CV] ............................... C=0.1, gamma=0.001, total=  14.6s\n",
            "[CV] C=0.1, gamma=0.0001 .............................................\n",
            "[CV] .............................. C=0.1, gamma=0.0001, total=  23.5s\n",
            "[CV] C=0.1, gamma=0.0001 .............................................\n",
            "[CV] .............................. C=0.1, gamma=0.0001, total=  23.5s\n",
            "[CV] C=0.1, gamma=0.0001 .............................................\n",
            "[CV] .............................. C=0.1, gamma=0.0001, total=  23.4s\n",
            "[CV] C=0.1, gamma=0.0001 .............................................\n",
            "[CV] .............................. C=0.1, gamma=0.0001, total=  23.6s\n",
            "[CV] C=0.1, gamma=0.0001 .............................................\n",
            "[CV] .............................. C=0.1, gamma=0.0001, total=  23.4s\n",
            "[CV] C=1, gamma=1 ....................................................\n",
            "[CV] ..................................... C=1, gamma=1, total=  26.8s\n",
            "[CV] C=1, gamma=1 ....................................................\n",
            "[CV] ..................................... C=1, gamma=1, total=  26.8s\n",
            "[CV] C=1, gamma=1 ....................................................\n",
            "[CV] ..................................... C=1, gamma=1, total=  26.9s\n",
            "[CV] C=1, gamma=1 ....................................................\n",
            "[CV] ..................................... C=1, gamma=1, total=  26.8s\n",
            "[CV] C=1, gamma=1 ....................................................\n",
            "[CV] ..................................... C=1, gamma=1, total=  27.0s\n",
            "[CV] C=1, gamma=0.1 ..................................................\n",
            "[CV] ................................... C=1, gamma=0.1, total=  23.0s\n",
            "[CV] C=1, gamma=0.1 ..................................................\n",
            "[CV] ................................... C=1, gamma=0.1, total=  22.8s\n",
            "[CV] C=1, gamma=0.1 ..................................................\n",
            "[CV] ................................... C=1, gamma=0.1, total=  22.9s\n",
            "[CV] C=1, gamma=0.1 ..................................................\n",
            "[CV] ................................... C=1, gamma=0.1, total=  22.9s\n",
            "[CV] C=1, gamma=0.1 ..................................................\n",
            "[CV] ................................... C=1, gamma=0.1, total=  22.9s\n",
            "[CV] C=1, gamma=0.01 .................................................\n",
            "[CV] .................................. C=1, gamma=0.01, total=   4.7s\n",
            "[CV] C=1, gamma=0.01 .................................................\n",
            "[CV] .................................. C=1, gamma=0.01, total=   4.7s\n",
            "[CV] C=1, gamma=0.01 .................................................\n",
            "[CV] .................................. C=1, gamma=0.01, total=   4.8s\n",
            "[CV] C=1, gamma=0.01 .................................................\n",
            "[CV] .................................. C=1, gamma=0.01, total=   4.7s\n",
            "[CV] C=1, gamma=0.01 .................................................\n",
            "[CV] .................................. C=1, gamma=0.01, total=   4.8s\n",
            "[CV] C=1, gamma=0.001 ................................................\n",
            "[CV] ................................. C=1, gamma=0.001, total=   6.8s\n",
            "[CV] C=1, gamma=0.001 ................................................\n",
            "[CV] ................................. C=1, gamma=0.001, total=   7.1s\n",
            "[CV] C=1, gamma=0.001 ................................................\n",
            "[CV] ................................. C=1, gamma=0.001, total=   7.2s\n",
            "[CV] C=1, gamma=0.001 ................................................\n",
            "[CV] ................................. C=1, gamma=0.001, total=   6.9s\n",
            "[CV] C=1, gamma=0.001 ................................................\n",
            "[CV] ................................. C=1, gamma=0.001, total=   6.8s\n",
            "[CV] C=1, gamma=0.0001 ...............................................\n",
            "[CV] ................................ C=1, gamma=0.0001, total=  13.8s\n",
            "[CV] C=1, gamma=0.0001 ...............................................\n",
            "[CV] ................................ C=1, gamma=0.0001, total=  13.8s\n",
            "[CV] C=1, gamma=0.0001 ...............................................\n",
            "[CV] ................................ C=1, gamma=0.0001, total=  13.9s\n",
            "[CV] C=1, gamma=0.0001 ...............................................\n",
            "[CV] ................................ C=1, gamma=0.0001, total=  13.8s\n",
            "[CV] C=1, gamma=0.0001 ...............................................\n",
            "[CV] ................................ C=1, gamma=0.0001, total=  13.8s\n",
            "[CV] C=10, gamma=1 ...................................................\n",
            "[CV] .................................... C=10, gamma=1, total=  27.0s\n",
            "[CV] C=10, gamma=1 ...................................................\n",
            "[CV] .................................... C=10, gamma=1, total=  27.1s\n",
            "[CV] C=10, gamma=1 ...................................................\n",
            "[CV] .................................... C=10, gamma=1, total=  27.2s\n",
            "[CV] C=10, gamma=1 ...................................................\n",
            "[CV] .................................... C=10, gamma=1, total=  27.1s\n",
            "[CV] C=10, gamma=1 ...................................................\n",
            "[CV] .................................... C=10, gamma=1, total=  27.8s\n",
            "[CV] C=10, gamma=0.1 .................................................\n",
            "[CV] .................................. C=10, gamma=0.1, total=  23.0s\n",
            "[CV] C=10, gamma=0.1 .................................................\n",
            "[CV] .................................. C=10, gamma=0.1, total=  23.0s\n",
            "[CV] C=10, gamma=0.1 .................................................\n",
            "[CV] .................................. C=10, gamma=0.1, total=  23.0s\n",
            "[CV] C=10, gamma=0.1 .................................................\n",
            "[CV] .................................. C=10, gamma=0.1, total=  23.7s\n",
            "[CV] C=10, gamma=0.1 .................................................\n"
          ],
          "name": "stdout"
        },
        {
          "output_type": "stream",
          "text": [
            "[CV] .................................. C=10, gamma=0.1, total=  26.9s\n",
            "[CV] C=10, gamma=0.01 ................................................\n",
            "[CV] ................................. C=10, gamma=0.01, total=   3.9s\n",
            "[CV] C=10, gamma=0.01 ................................................\n",
            "[CV] ................................. C=10, gamma=0.01, total=   4.4s\n",
            "[CV] C=10, gamma=0.01 ................................................\n",
            "[CV] ................................. C=10, gamma=0.01, total=   4.1s\n",
            "[CV] C=10, gamma=0.01 ................................................\n",
            "[CV] ................................. C=10, gamma=0.01, total=   4.4s\n",
            "[CV] C=10, gamma=0.01 ................................................\n",
            "[CV] ................................. C=10, gamma=0.01, total=   4.3s\n",
            "[CV] C=10, gamma=0.001 ...............................................\n",
            "[CV] ................................ C=10, gamma=0.001, total=   3.5s\n",
            "[CV] C=10, gamma=0.001 ...............................................\n",
            "[CV] ................................ C=10, gamma=0.001, total=   3.5s\n",
            "[CV] C=10, gamma=0.001 ...............................................\n",
            "[CV] ................................ C=10, gamma=0.001, total=   3.7s\n",
            "[CV] C=10, gamma=0.001 ...............................................\n",
            "[CV] ................................ C=10, gamma=0.001, total=   3.6s\n",
            "[CV] C=10, gamma=0.001 ...............................................\n",
            "[CV] ................................ C=10, gamma=0.001, total=   3.4s\n",
            "[CV] C=10, gamma=0.0001 ..............................................\n",
            "[CV] ............................... C=10, gamma=0.0001, total=   7.8s\n",
            "[CV] C=10, gamma=0.0001 ..............................................\n",
            "[CV] ............................... C=10, gamma=0.0001, total=   6.5s\n",
            "[CV] C=10, gamma=0.0001 ..............................................\n",
            "[CV] ............................... C=10, gamma=0.0001, total=   6.6s\n",
            "[CV] C=10, gamma=0.0001 ..............................................\n",
            "[CV] ............................... C=10, gamma=0.0001, total=   6.5s\n",
            "[CV] C=10, gamma=0.0001 ..............................................\n",
            "[CV] ............................... C=10, gamma=0.0001, total=   6.8s\n",
            "[CV] C=100, gamma=1 ..................................................\n",
            "[CV] ................................... C=100, gamma=1, total=  27.7s\n",
            "[CV] C=100, gamma=1 ..................................................\n",
            "[CV] ................................... C=100, gamma=1, total=  27.0s\n",
            "[CV] C=100, gamma=1 ..................................................\n",
            "[CV] ................................... C=100, gamma=1, total=  27.0s\n",
            "[CV] C=100, gamma=1 ..................................................\n",
            "[CV] ................................... C=100, gamma=1, total=  27.0s\n",
            "[CV] C=100, gamma=1 ..................................................\n",
            "[CV] ................................... C=100, gamma=1, total=  27.1s\n",
            "[CV] C=100, gamma=0.1 ................................................\n",
            "[CV] ................................. C=100, gamma=0.1, total=  23.1s\n",
            "[CV] C=100, gamma=0.1 ................................................\n",
            "[CV] ................................. C=100, gamma=0.1, total=  22.8s\n",
            "[CV] C=100, gamma=0.1 ................................................\n",
            "[CV] ................................. C=100, gamma=0.1, total=  23.0s\n",
            "[CV] C=100, gamma=0.1 ................................................\n",
            "[CV] ................................. C=100, gamma=0.1, total=  23.1s\n",
            "[CV] C=100, gamma=0.1 ................................................\n",
            "[CV] ................................. C=100, gamma=0.1, total=  22.9s\n",
            "[CV] C=100, gamma=0.01 ...............................................\n",
            "[CV] ................................ C=100, gamma=0.01, total=   3.5s\n",
            "[CV] C=100, gamma=0.01 ...............................................\n",
            "[CV] ................................ C=100, gamma=0.01, total=   3.5s\n",
            "[CV] C=100, gamma=0.01 ...............................................\n",
            "[CV] ................................ C=100, gamma=0.01, total=   3.5s\n",
            "[CV] C=100, gamma=0.01 ...............................................\n",
            "[CV] ................................ C=100, gamma=0.01, total=   3.5s\n",
            "[CV] C=100, gamma=0.01 ...............................................\n",
            "[CV] ................................ C=100, gamma=0.01, total=   3.5s\n",
            "[CV] C=100, gamma=0.001 ..............................................\n",
            "[CV] ............................... C=100, gamma=0.001, total=   2.1s\n",
            "[CV] C=100, gamma=0.001 ..............................................\n",
            "[CV] ............................... C=100, gamma=0.001, total=   2.1s\n",
            "[CV] C=100, gamma=0.001 ..............................................\n",
            "[CV] ............................... C=100, gamma=0.001, total=   2.1s\n",
            "[CV] C=100, gamma=0.001 ..............................................\n",
            "[CV] ............................... C=100, gamma=0.001, total=   2.1s\n",
            "[CV] C=100, gamma=0.001 ..............................................\n",
            "[CV] ............................... C=100, gamma=0.001, total=   2.1s\n",
            "[CV] C=100, gamma=0.0001 .............................................\n",
            "[CV] .............................. C=100, gamma=0.0001, total=   3.0s\n",
            "[CV] C=100, gamma=0.0001 .............................................\n",
            "[CV] .............................. C=100, gamma=0.0001, total=   3.0s\n",
            "[CV] C=100, gamma=0.0001 .............................................\n",
            "[CV] .............................. C=100, gamma=0.0001, total=   3.0s\n",
            "[CV] C=100, gamma=0.0001 .............................................\n",
            "[CV] .............................. C=100, gamma=0.0001, total=   3.0s\n",
            "[CV] C=100, gamma=0.0001 .............................................\n",
            "[CV] .............................. C=100, gamma=0.0001, total=   3.0s\n",
            "[CV] C=1000, gamma=1 .................................................\n",
            "[CV] .................................. C=1000, gamma=1, total=  27.0s\n",
            "[CV] C=1000, gamma=1 .................................................\n",
            "[CV] .................................. C=1000, gamma=1, total=  27.0s\n",
            "[CV] C=1000, gamma=1 .................................................\n",
            "[CV] .................................. C=1000, gamma=1, total=  27.5s\n",
            "[CV] C=1000, gamma=1 .................................................\n",
            "[CV] .................................. C=1000, gamma=1, total=  29.3s\n",
            "[CV] C=1000, gamma=1 .................................................\n",
            "[CV] .................................. C=1000, gamma=1, total=  28.5s\n",
            "[CV] C=1000, gamma=0.1 ...............................................\n",
            "[CV] ................................ C=1000, gamma=0.1, total=  24.6s\n",
            "[CV] C=1000, gamma=0.1 ...............................................\n",
            "[CV] ................................ C=1000, gamma=0.1, total=  23.2s\n",
            "[CV] C=1000, gamma=0.1 ...............................................\n",
            "[CV] ................................ C=1000, gamma=0.1, total=  22.2s\n",
            "[CV] C=1000, gamma=0.1 ...............................................\n",
            "[CV] ................................ C=1000, gamma=0.1, total=  22.2s\n",
            "[CV] C=1000, gamma=0.1 ...............................................\n",
            "[CV] ................................ C=1000, gamma=0.1, total=  22.3s\n",
            "[CV] C=1000, gamma=0.01 ..............................................\n",
            "[CV] ............................... C=1000, gamma=0.01, total=   3.3s\n",
            "[CV] C=1000, gamma=0.01 ..............................................\n",
            "[CV] ............................... C=1000, gamma=0.01, total=   3.4s\n",
            "[CV] C=1000, gamma=0.01 ..............................................\n",
            "[CV] ............................... C=1000, gamma=0.01, total=   3.4s\n",
            "[CV] C=1000, gamma=0.01 ..............................................\n",
            "[CV] ............................... C=1000, gamma=0.01, total=   3.4s\n",
            "[CV] C=1000, gamma=0.01 ..............................................\n",
            "[CV] ............................... C=1000, gamma=0.01, total=   3.4s\n",
            "[CV] C=1000, gamma=0.001 .............................................\n",
            "[CV] .............................. C=1000, gamma=0.001, total=   1.9s\n",
            "[CV] C=1000, gamma=0.001 .............................................\n",
            "[CV] .............................. C=1000, gamma=0.001, total=   1.8s\n",
            "[CV] C=1000, gamma=0.001 .............................................\n"
          ],
          "name": "stdout"
        },
        {
          "output_type": "stream",
          "text": [
            "[CV] .............................. C=1000, gamma=0.001, total=   1.9s\n",
            "[CV] C=1000, gamma=0.001 .............................................\n",
            "[CV] .............................. C=1000, gamma=0.001, total=   1.9s\n",
            "[CV] C=1000, gamma=0.001 .............................................\n",
            "[CV] .............................. C=1000, gamma=0.001, total=   1.9s\n",
            "[CV] C=1000, gamma=0.0001 ............................................\n",
            "[CV] ............................. C=1000, gamma=0.0001, total=   1.9s\n",
            "[CV] C=1000, gamma=0.0001 ............................................\n",
            "[CV] ............................. C=1000, gamma=0.0001, total=   1.9s\n",
            "[CV] C=1000, gamma=0.0001 ............................................\n",
            "[CV] ............................. C=1000, gamma=0.0001, total=   1.9s\n",
            "[CV] C=1000, gamma=0.0001 ............................................\n",
            "[CV] ............................. C=1000, gamma=0.0001, total=   1.9s\n",
            "[CV] C=1000, gamma=0.0001 ............................................\n",
            "[CV] ............................. C=1000, gamma=0.0001, total=   1.9s\n"
          ],
          "name": "stdout"
        },
        {
          "output_type": "stream",
          "text": [
            "[Parallel(n_jobs=1)]: Done 125 out of 125 | elapsed: 29.6min finished\n"
          ],
          "name": "stderr"
        },
        {
          "output_type": "execute_result",
          "data": {
            "text/plain": [
              "GridSearchCV(cv=None, error_score=nan,\n",
              "             estimator=SVC(C=1.0, break_ties=False, cache_size=200,\n",
              "                           class_weight=None, coef0=0.0,\n",
              "                           decision_function_shape='ovr', degree=3,\n",
              "                           gamma='scale', kernel='rbf', max_iter=-1,\n",
              "                           probability=False, random_state=None, shrinking=True,\n",
              "                           tol=0.001, verbose=False),\n",
              "             iid='deprecated', n_jobs=None,\n",
              "             param_grid={'C': [0.1, 1, 10, 100, 1000],\n",
              "                         'gamma': [1, 0.1, 0.01, 0.001, 0.0001]},\n",
              "             pre_dispatch='2*n_jobs', refit=True, return_train_score=False,\n",
              "             scoring=None, verbose=2)"
            ]
          },
          "metadata": {
            "tags": []
          },
          "execution_count": 22
        }
      ]
    },
    {
      "cell_type": "code",
      "metadata": {
        "id": "pfWp-2VqPE3P",
        "colab_type": "code",
        "colab": {},
        "outputId": "16467f23-21be-4b91-c4a7-70867523cd6a"
      },
      "source": [
        "gs.best_params_"
      ],
      "execution_count": null,
      "outputs": [
        {
          "output_type": "execute_result",
          "data": {
            "text/plain": [
              "{'C': 100, 'gamma': 0.01}"
            ]
          },
          "metadata": {
            "tags": []
          },
          "execution_count": 24
        }
      ]
    },
    {
      "cell_type": "code",
      "metadata": {
        "id": "zearb6eVPE3S",
        "colab_type": "code",
        "colab": {},
        "outputId": "7a7c4c42-0504-41f1-f4d7-475828fa78fc"
      },
      "source": [
        "gs.best_estimator_"
      ],
      "execution_count": null,
      "outputs": [
        {
          "output_type": "execute_result",
          "data": {
            "text/plain": [
              "SVC(C=100, break_ties=False, cache_size=200, class_weight=None, coef0=0.0,\n",
              "    decision_function_shape='ovr', degree=3, gamma=0.01, kernel='rbf',\n",
              "    max_iter=-1, probability=False, random_state=None, shrinking=True,\n",
              "    tol=0.001, verbose=False)"
            ]
          },
          "metadata": {
            "tags": []
          },
          "execution_count": 25
        }
      ]
    },
    {
      "cell_type": "code",
      "metadata": {
        "id": "p5XsB80qPE3V",
        "colab_type": "code",
        "colab": {}
      },
      "source": [
        "gs_pred = gs.predict(X_test)"
      ],
      "execution_count": null,
      "outputs": []
    },
    {
      "cell_type": "code",
      "metadata": {
        "id": "7q7OAc1vPE3X",
        "colab_type": "code",
        "colab": {},
        "outputId": "efc8d916-ef0d-42ab-c080-cfe0715948d7"
      },
      "source": [
        "print(confusion_matrix(y_test,gs_pred))\n",
        "print(classification_report(y_test,gs_pred))"
      ],
      "execution_count": null,
      "outputs": [
        {
          "output_type": "stream",
          "text": [
            "[[391  18   0   0   0   0]\n",
            " [  5 376   0   0   0   0]\n",
            " [  0   0 398   0   0   0]\n",
            " [  0   0   0 385   1   0]\n",
            " [  0   0   0   0 298   0]\n",
            " [  0   0   0   0   0 334]]\n",
            "              precision    recall  f1-score   support\n",
            "\n",
            "           0       0.99      0.96      0.97       409\n",
            "           1       0.95      0.99      0.97       381\n",
            "           2       1.00      1.00      1.00       398\n",
            "           3       1.00      1.00      1.00       386\n",
            "           4       1.00      1.00      1.00       298\n",
            "           5       1.00      1.00      1.00       334\n",
            "\n",
            "    accuracy                           0.99      2206\n",
            "   macro avg       0.99      0.99      0.99      2206\n",
            "weighted avg       0.99      0.99      0.99      2206\n",
            "\n"
          ],
          "name": "stdout"
        }
      ]
    },
    {
      "cell_type": "code",
      "metadata": {
        "id": "C77pxsB7PE3a",
        "colab_type": "code",
        "colab": {}
      },
      "source": [
        ""
      ],
      "execution_count": null,
      "outputs": []
    }
  ]
}